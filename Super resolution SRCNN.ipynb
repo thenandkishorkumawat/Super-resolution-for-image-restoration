{
 "cells": [
  {
   "cell_type": "markdown",
   "metadata": {},
   "source": [
    "# Super Resolution Convoluutional Neural Network for Image Restoration\n",
    "\n",
    "During this project, we learn how to implement:\n",
    "\n",
    "1. use the PSNR, MSE and SSIM image quality metrics.\n",
    "2. process images using OpenCV.\n",
    "3. convert between the RGB, BGR and YCrCb color spaces.\n",
    "4. build deep neural networks in Keras.\n",
    "5. deploy and evalute the SCRNN network."
   ]
  },
  {
   "cell_type": "code",
   "execution_count": 8,
   "metadata": {},
   "outputs": [],
   "source": [
    "import sys\n",
    "import keras\n",
    "import numpy\n",
    "import matplotlib\n",
    "import skimage\n",
    "import cv2\n",
    "import tensorflow as tf"
   ]
  },
  {
   "cell_type": "code",
   "execution_count": 11,
   "metadata": {},
   "outputs": [],
   "source": [
    "# import some necessary packages\n",
    "\n",
    "from keras.models import Sequential\n",
    "from keras.layers import Conv2D, Input\n",
    "from keras.optimizers import SGD, Adam\n",
    "from skimage.measure import compare_ssim as ssim\n",
    "from matplotlib import pyplot as plt\n",
    "import cv2\n",
    "import numpy as np\n",
    "import math\n",
    "import os\n",
    "\n",
    "# python magic function\n",
    "%matplotlib inline"
   ]
  },
  {
   "cell_type": "code",
   "execution_count": 14,
   "metadata": {},
   "outputs": [],
   "source": [
    "# now we are define a function for peak signal-to-noise ration (PSNR)\n",
    "\n",
    "def psnr(target, ref):\n",
    "    \n",
    "    \n",
    "    # assume RGB/BGR image\n",
    "    target_data = target.astype(float)\n",
    "    ref_data = ref.astype(float)\n",
    "    \n",
    "    diff = ref_data - target_data\n",
    "    diff = diff.flatten('C')\n",
    "    \n",
    "    rmse = math.sqrt(np.mean(diff ** 2.))\n",
    "    \n",
    "    return 20 * math.log10(255. / rmse)\n",
    "\n",
    "# now we defined function for mean squared error (NSE)\n",
    "\n",
    "def mse(target, ref):\n",
    "    \n",
    "    # NSE is the sum of the squared difference between the two images\n",
    "    \n",
    "    err = np.sum((target.astype('float') - ref.astype('float')) ** 2)\n",
    "    \n",
    "    return err\n",
    "\n",
    "# now we are create the function which combine the all the images quality matrices\n",
    "\n",
    "def compare_images(target, ref):\n",
    "    scores = []\n",
    "    scores.append(psnr(target, ref))\n",
    "    scores.append(mse(target, ref))\n",
    "    scores.append(ssim(target, ref, multichannel =True))\n",
    "    \n",
    "    return scores\n"
   ]
  },
  {
   "cell_type": "code",
   "execution_count": null,
   "metadata": {},
   "outputs": [],
   "source": []
  }
 ],
 "metadata": {
  "kernelspec": {
   "display_name": "Python 3",
   "language": "python",
   "name": "python3"
  },
  "language_info": {
   "codemirror_mode": {
    "name": "ipython",
    "version": 3
   },
   "file_extension": ".py",
   "mimetype": "text/x-python",
   "name": "python",
   "nbconvert_exporter": "python",
   "pygments_lexer": "ipython3",
   "version": "3.7.7"
  }
 },
 "nbformat": 4,
 "nbformat_minor": 2
}
